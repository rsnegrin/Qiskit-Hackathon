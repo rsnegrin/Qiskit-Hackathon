{
 "cells": [
  {
   "cell_type": "code",
   "execution_count": 20,
   "metadata": {},
   "outputs": [
    {
     "name": "stdout",
     "output_type": "stream",
     "text": [
      "Requirement already satisfied: qiskit in /Users/rsnegrin/.pyenv/versions/3.10.1/lib/python3.10/site-packages (0.44.2)\n",
      "Requirement already satisfied: qiskit-terra==0.25.2.1 in /Users/rsnegrin/.pyenv/versions/3.10.1/lib/python3.10/site-packages (from qiskit) (0.25.2.1)\n",
      "Requirement already satisfied: rustworkx>=0.13.0 in /Users/rsnegrin/.pyenv/versions/3.10.1/lib/python3.10/site-packages (from qiskit-terra==0.25.2.1->qiskit) (0.13.2)\n",
      "Requirement already satisfied: numpy>=1.17 in /Users/rsnegrin/.pyenv/versions/3.10.1/lib/python3.10/site-packages (from qiskit-terra==0.25.2.1->qiskit) (1.24.2)\n",
      "Requirement already satisfied: ply>=3.10 in /Users/rsnegrin/.pyenv/versions/3.10.1/lib/python3.10/site-packages (from qiskit-terra==0.25.2.1->qiskit) (3.11)\n",
      "Requirement already satisfied: psutil>=5 in /Users/rsnegrin/.pyenv/versions/3.10.1/lib/python3.10/site-packages (from qiskit-terra==0.25.2.1->qiskit) (5.9.4)\n",
      "Requirement already satisfied: scipy>=1.5 in /Users/rsnegrin/.pyenv/versions/3.10.1/lib/python3.10/site-packages (from qiskit-terra==0.25.2.1->qiskit) (1.10.1)\n",
      "Requirement already satisfied: sympy>=1.3 in /Users/rsnegrin/.pyenv/versions/3.10.1/lib/python3.10/site-packages (from qiskit-terra==0.25.2.1->qiskit) (1.12)\n",
      "Requirement already satisfied: dill>=0.3 in /Users/rsnegrin/.pyenv/versions/3.10.1/lib/python3.10/site-packages (from qiskit-terra==0.25.2.1->qiskit) (0.3.7)\n",
      "Requirement already satisfied: python-dateutil>=2.8.0 in /Users/rsnegrin/.pyenv/versions/3.10.1/lib/python3.10/site-packages (from qiskit-terra==0.25.2.1->qiskit) (2.8.2)\n",
      "Requirement already satisfied: stevedore>=3.0.0 in /Users/rsnegrin/.pyenv/versions/3.10.1/lib/python3.10/site-packages (from qiskit-terra==0.25.2.1->qiskit) (5.1.0)\n",
      "Requirement already satisfied: symengine<0.10,>=0.9 in /Users/rsnegrin/.pyenv/versions/3.10.1/lib/python3.10/site-packages (from qiskit-terra==0.25.2.1->qiskit) (0.9.2)\n",
      "Requirement already satisfied: typing-extensions in /Users/rsnegrin/.pyenv/versions/3.10.1/lib/python3.10/site-packages (from qiskit-terra==0.25.2.1->qiskit) (4.5.0)\n",
      "Requirement already satisfied: six>=1.5 in /Users/rsnegrin/.pyenv/versions/3.10.1/lib/python3.10/site-packages (from python-dateutil>=2.8.0->qiskit-terra==0.25.2.1->qiskit) (1.16.0)\n",
      "Requirement already satisfied: pbr!=2.1.0,>=2.0.0 in /Users/rsnegrin/.pyenv/versions/3.10.1/lib/python3.10/site-packages (from stevedore>=3.0.0->qiskit-terra==0.25.2.1->qiskit) (5.11.1)\n",
      "Requirement already satisfied: mpmath>=0.19 in /Users/rsnegrin/.pyenv/versions/3.10.1/lib/python3.10/site-packages (from sympy>=1.3->qiskit-terra==0.25.2.1->qiskit) (1.3.0)\n",
      "Note: you may need to restart the kernel to use updated packages.\n",
      "Requirement already satisfied: qiskit in /Users/rsnegrin/.pyenv/versions/3.10.1/lib/python3.10/site-packages (0.44.2)\n",
      "Requirement already satisfied: qiskit-terra==0.25.2.1 in /Users/rsnegrin/.pyenv/versions/3.10.1/lib/python3.10/site-packages (from qiskit) (0.25.2.1)\n",
      "Requirement already satisfied: rustworkx>=0.13.0 in /Users/rsnegrin/.pyenv/versions/3.10.1/lib/python3.10/site-packages (from qiskit-terra==0.25.2.1->qiskit) (0.13.2)\n",
      "Requirement already satisfied: numpy>=1.17 in /Users/rsnegrin/.pyenv/versions/3.10.1/lib/python3.10/site-packages (from qiskit-terra==0.25.2.1->qiskit) (1.24.2)\n",
      "Requirement already satisfied: ply>=3.10 in /Users/rsnegrin/.pyenv/versions/3.10.1/lib/python3.10/site-packages (from qiskit-terra==0.25.2.1->qiskit) (3.11)\n",
      "Requirement already satisfied: psutil>=5 in /Users/rsnegrin/.pyenv/versions/3.10.1/lib/python3.10/site-packages (from qiskit-terra==0.25.2.1->qiskit) (5.9.4)\n",
      "Requirement already satisfied: scipy>=1.5 in /Users/rsnegrin/.pyenv/versions/3.10.1/lib/python3.10/site-packages (from qiskit-terra==0.25.2.1->qiskit) (1.10.1)\n",
      "Requirement already satisfied: sympy>=1.3 in /Users/rsnegrin/.pyenv/versions/3.10.1/lib/python3.10/site-packages (from qiskit-terra==0.25.2.1->qiskit) (1.12)\n",
      "Requirement already satisfied: dill>=0.3 in /Users/rsnegrin/.pyenv/versions/3.10.1/lib/python3.10/site-packages (from qiskit-terra==0.25.2.1->qiskit) (0.3.7)\n",
      "Requirement already satisfied: python-dateutil>=2.8.0 in /Users/rsnegrin/.pyenv/versions/3.10.1/lib/python3.10/site-packages (from qiskit-terra==0.25.2.1->qiskit) (2.8.2)\n",
      "Requirement already satisfied: stevedore>=3.0.0 in /Users/rsnegrin/.pyenv/versions/3.10.1/lib/python3.10/site-packages (from qiskit-terra==0.25.2.1->qiskit) (5.1.0)\n",
      "Requirement already satisfied: symengine<0.10,>=0.9 in /Users/rsnegrin/.pyenv/versions/3.10.1/lib/python3.10/site-packages (from qiskit-terra==0.25.2.1->qiskit) (0.9.2)\n",
      "Requirement already satisfied: typing-extensions in /Users/rsnegrin/.pyenv/versions/3.10.1/lib/python3.10/site-packages (from qiskit-terra==0.25.2.1->qiskit) (4.5.0)\n",
      "Requirement already satisfied: six>=1.5 in /Users/rsnegrin/.pyenv/versions/3.10.1/lib/python3.10/site-packages (from python-dateutil>=2.8.0->qiskit-terra==0.25.2.1->qiskit) (1.16.0)\n",
      "Requirement already satisfied: pbr!=2.1.0,>=2.0.0 in /Users/rsnegrin/.pyenv/versions/3.10.1/lib/python3.10/site-packages (from stevedore>=3.0.0->qiskit-terra==0.25.2.1->qiskit) (5.11.1)\n",
      "Requirement already satisfied: mpmath>=0.19 in /Users/rsnegrin/.pyenv/versions/3.10.1/lib/python3.10/site-packages (from sympy>=1.3->qiskit-terra==0.25.2.1->qiskit) (1.3.0)\n",
      "Note: you may need to restart the kernel to use updated packages.\n",
      "Requirement already satisfied: qiskit[nature] in /Users/rsnegrin/.pyenv/versions/3.10.1/lib/python3.10/site-packages (0.44.2)\n",
      "\u001b[33mWARNING: qiskit 0.44.2 does not provide the extra 'nature'\u001b[0m\u001b[33m\n",
      "\u001b[0mRequirement already satisfied: qiskit-terra==0.25.2.1 in /Users/rsnegrin/.pyenv/versions/3.10.1/lib/python3.10/site-packages (from qiskit[nature]) (0.25.2.1)\n",
      "Requirement already satisfied: rustworkx>=0.13.0 in /Users/rsnegrin/.pyenv/versions/3.10.1/lib/python3.10/site-packages (from qiskit-terra==0.25.2.1->qiskit[nature]) (0.13.2)\n",
      "Requirement already satisfied: numpy>=1.17 in /Users/rsnegrin/.pyenv/versions/3.10.1/lib/python3.10/site-packages (from qiskit-terra==0.25.2.1->qiskit[nature]) (1.24.2)\n",
      "Requirement already satisfied: ply>=3.10 in /Users/rsnegrin/.pyenv/versions/3.10.1/lib/python3.10/site-packages (from qiskit-terra==0.25.2.1->qiskit[nature]) (3.11)\n",
      "Requirement already satisfied: psutil>=5 in /Users/rsnegrin/.pyenv/versions/3.10.1/lib/python3.10/site-packages (from qiskit-terra==0.25.2.1->qiskit[nature]) (5.9.4)\n",
      "Requirement already satisfied: scipy>=1.5 in /Users/rsnegrin/.pyenv/versions/3.10.1/lib/python3.10/site-packages (from qiskit-terra==0.25.2.1->qiskit[nature]) (1.10.1)\n",
      "Requirement already satisfied: sympy>=1.3 in /Users/rsnegrin/.pyenv/versions/3.10.1/lib/python3.10/site-packages (from qiskit-terra==0.25.2.1->qiskit[nature]) (1.12)\n",
      "Requirement already satisfied: dill>=0.3 in /Users/rsnegrin/.pyenv/versions/3.10.1/lib/python3.10/site-packages (from qiskit-terra==0.25.2.1->qiskit[nature]) (0.3.7)\n",
      "Requirement already satisfied: python-dateutil>=2.8.0 in /Users/rsnegrin/.pyenv/versions/3.10.1/lib/python3.10/site-packages (from qiskit-terra==0.25.2.1->qiskit[nature]) (2.8.2)\n",
      "Requirement already satisfied: stevedore>=3.0.0 in /Users/rsnegrin/.pyenv/versions/3.10.1/lib/python3.10/site-packages (from qiskit-terra==0.25.2.1->qiskit[nature]) (5.1.0)\n",
      "Requirement already satisfied: symengine<0.10,>=0.9 in /Users/rsnegrin/.pyenv/versions/3.10.1/lib/python3.10/site-packages (from qiskit-terra==0.25.2.1->qiskit[nature]) (0.9.2)\n",
      "Requirement already satisfied: typing-extensions in /Users/rsnegrin/.pyenv/versions/3.10.1/lib/python3.10/site-packages (from qiskit-terra==0.25.2.1->qiskit[nature]) (4.5.0)\n",
      "Requirement already satisfied: six>=1.5 in /Users/rsnegrin/.pyenv/versions/3.10.1/lib/python3.10/site-packages (from python-dateutil>=2.8.0->qiskit-terra==0.25.2.1->qiskit[nature]) (1.16.0)\n",
      "Requirement already satisfied: pbr!=2.1.0,>=2.0.0 in /Users/rsnegrin/.pyenv/versions/3.10.1/lib/python3.10/site-packages (from stevedore>=3.0.0->qiskit-terra==0.25.2.1->qiskit[nature]) (5.11.1)\n",
      "Requirement already satisfied: mpmath>=0.19 in /Users/rsnegrin/.pyenv/versions/3.10.1/lib/python3.10/site-packages (from sympy>=1.3->qiskit-terra==0.25.2.1->qiskit[nature]) (1.3.0)\n",
      "Note: you may need to restart the kernel to use updated packages.\n",
      "Requirement already satisfied: qiskit-aer in /Users/rsnegrin/.pyenv/versions/3.10.1/lib/python3.10/site-packages (0.12.2)\n",
      "Requirement already satisfied: qiskit-terra>=0.21.0 in /Users/rsnegrin/.pyenv/versions/3.10.1/lib/python3.10/site-packages (from qiskit-aer) (0.25.2.1)\n",
      "Requirement already satisfied: numpy>=1.16.3 in /Users/rsnegrin/.pyenv/versions/3.10.1/lib/python3.10/site-packages (from qiskit-aer) (1.24.2)\n",
      "Requirement already satisfied: scipy>=1.0 in /Users/rsnegrin/.pyenv/versions/3.10.1/lib/python3.10/site-packages (from qiskit-aer) (1.10.1)\n",
      "Requirement already satisfied: rustworkx>=0.13.0 in /Users/rsnegrin/.pyenv/versions/3.10.1/lib/python3.10/site-packages (from qiskit-terra>=0.21.0->qiskit-aer) (0.13.2)\n",
      "Requirement already satisfied: ply>=3.10 in /Users/rsnegrin/.pyenv/versions/3.10.1/lib/python3.10/site-packages (from qiskit-terra>=0.21.0->qiskit-aer) (3.11)\n",
      "Requirement already satisfied: psutil>=5 in /Users/rsnegrin/.pyenv/versions/3.10.1/lib/python3.10/site-packages (from qiskit-terra>=0.21.0->qiskit-aer) (5.9.4)\n",
      "Requirement already satisfied: sympy>=1.3 in /Users/rsnegrin/.pyenv/versions/3.10.1/lib/python3.10/site-packages (from qiskit-terra>=0.21.0->qiskit-aer) (1.12)\n",
      "Requirement already satisfied: dill>=0.3 in /Users/rsnegrin/.pyenv/versions/3.10.1/lib/python3.10/site-packages (from qiskit-terra>=0.21.0->qiskit-aer) (0.3.7)\n",
      "Requirement already satisfied: python-dateutil>=2.8.0 in /Users/rsnegrin/.pyenv/versions/3.10.1/lib/python3.10/site-packages (from qiskit-terra>=0.21.0->qiskit-aer) (2.8.2)\n",
      "Requirement already satisfied: stevedore>=3.0.0 in /Users/rsnegrin/.pyenv/versions/3.10.1/lib/python3.10/site-packages (from qiskit-terra>=0.21.0->qiskit-aer) (5.1.0)\n",
      "Requirement already satisfied: symengine<0.10,>=0.9 in /Users/rsnegrin/.pyenv/versions/3.10.1/lib/python3.10/site-packages (from qiskit-terra>=0.21.0->qiskit-aer) (0.9.2)\n",
      "Requirement already satisfied: typing-extensions in /Users/rsnegrin/.pyenv/versions/3.10.1/lib/python3.10/site-packages (from qiskit-terra>=0.21.0->qiskit-aer) (4.5.0)\n",
      "Requirement already satisfied: six>=1.5 in /Users/rsnegrin/.pyenv/versions/3.10.1/lib/python3.10/site-packages (from python-dateutil>=2.8.0->qiskit-terra>=0.21.0->qiskit-aer) (1.16.0)\n",
      "Requirement already satisfied: pbr!=2.1.0,>=2.0.0 in /Users/rsnegrin/.pyenv/versions/3.10.1/lib/python3.10/site-packages (from stevedore>=3.0.0->qiskit-terra>=0.21.0->qiskit-aer) (5.11.1)\n",
      "Requirement already satisfied: mpmath>=0.19 in /Users/rsnegrin/.pyenv/versions/3.10.1/lib/python3.10/site-packages (from sympy>=1.3->qiskit-terra>=0.21.0->qiskit-aer) (1.3.0)\n",
      "Note: you may need to restart the kernel to use updated packages.\n",
      "Collecting qiskit_algorithms\n",
      "  Downloading qiskit_algorithms-0.2.1-py3-none-any.whl.metadata (4.1 kB)\n",
      "Requirement already satisfied: qiskit-terra>=0.24 in /Users/rsnegrin/.pyenv/versions/3.10.1/lib/python3.10/site-packages (from qiskit_algorithms) (0.25.2.1)\n",
      "Requirement already satisfied: scipy>=1.4 in /Users/rsnegrin/.pyenv/versions/3.10.1/lib/python3.10/site-packages (from qiskit_algorithms) (1.10.1)\n",
      "Requirement already satisfied: numpy>=1.17 in /Users/rsnegrin/.pyenv/versions/3.10.1/lib/python3.10/site-packages (from qiskit_algorithms) (1.24.2)\n",
      "Requirement already satisfied: rustworkx>=0.13.0 in /Users/rsnegrin/.pyenv/versions/3.10.1/lib/python3.10/site-packages (from qiskit-terra>=0.24->qiskit_algorithms) (0.13.2)\n",
      "Requirement already satisfied: ply>=3.10 in /Users/rsnegrin/.pyenv/versions/3.10.1/lib/python3.10/site-packages (from qiskit-terra>=0.24->qiskit_algorithms) (3.11)\n",
      "Requirement already satisfied: psutil>=5 in /Users/rsnegrin/.pyenv/versions/3.10.1/lib/python3.10/site-packages (from qiskit-terra>=0.24->qiskit_algorithms) (5.9.4)\n",
      "Requirement already satisfied: sympy>=1.3 in /Users/rsnegrin/.pyenv/versions/3.10.1/lib/python3.10/site-packages (from qiskit-terra>=0.24->qiskit_algorithms) (1.12)\n",
      "Requirement already satisfied: dill>=0.3 in /Users/rsnegrin/.pyenv/versions/3.10.1/lib/python3.10/site-packages (from qiskit-terra>=0.24->qiskit_algorithms) (0.3.7)\n",
      "Requirement already satisfied: python-dateutil>=2.8.0 in /Users/rsnegrin/.pyenv/versions/3.10.1/lib/python3.10/site-packages (from qiskit-terra>=0.24->qiskit_algorithms) (2.8.2)\n",
      "Requirement already satisfied: stevedore>=3.0.0 in /Users/rsnegrin/.pyenv/versions/3.10.1/lib/python3.10/site-packages (from qiskit-terra>=0.24->qiskit_algorithms) (5.1.0)\n",
      "Requirement already satisfied: symengine<0.10,>=0.9 in /Users/rsnegrin/.pyenv/versions/3.10.1/lib/python3.10/site-packages (from qiskit-terra>=0.24->qiskit_algorithms) (0.9.2)\n",
      "Requirement already satisfied: typing-extensions in /Users/rsnegrin/.pyenv/versions/3.10.1/lib/python3.10/site-packages (from qiskit-terra>=0.24->qiskit_algorithms) (4.5.0)\n",
      "Requirement already satisfied: six>=1.5 in /Users/rsnegrin/.pyenv/versions/3.10.1/lib/python3.10/site-packages (from python-dateutil>=2.8.0->qiskit-terra>=0.24->qiskit_algorithms) (1.16.0)\n",
      "Requirement already satisfied: pbr!=2.1.0,>=2.0.0 in /Users/rsnegrin/.pyenv/versions/3.10.1/lib/python3.10/site-packages (from stevedore>=3.0.0->qiskit-terra>=0.24->qiskit_algorithms) (5.11.1)\n",
      "Requirement already satisfied: mpmath>=0.19 in /Users/rsnegrin/.pyenv/versions/3.10.1/lib/python3.10/site-packages (from sympy>=1.3->qiskit-terra>=0.24->qiskit_algorithms) (1.3.0)\n",
      "Downloading qiskit_algorithms-0.2.1-py3-none-any.whl (306 kB)\n",
      "\u001b[2K   \u001b[38;2;114;156;31m━━━━━━━━━━━━━━━━━━━━━━━━━━━━━━━━━━━━━━━━\u001b[0m \u001b[32m306.9/306.9 kB\u001b[0m \u001b[31m6.9 MB/s\u001b[0m eta \u001b[36m0:00:00\u001b[0m MB/s\u001b[0m eta \u001b[36m0:00:01\u001b[0m\n",
      "\u001b[?25hInstalling collected packages: qiskit_algorithms\n",
      "Successfully installed qiskit_algorithms-0.2.1\n",
      "Note: you may need to restart the kernel to use updated packages.\n",
      "Requirement already satisfied: matplotlib in /Users/rsnegrin/.pyenv/versions/3.10.1/lib/python3.10/site-packages (3.7.1)\n",
      "Requirement already satisfied: contourpy>=1.0.1 in /Users/rsnegrin/.pyenv/versions/3.10.1/lib/python3.10/site-packages (from matplotlib) (1.0.7)\n",
      "Requirement already satisfied: cycler>=0.10 in /Users/rsnegrin/.pyenv/versions/3.10.1/lib/python3.10/site-packages (from matplotlib) (0.11.0)\n",
      "Requirement already satisfied: fonttools>=4.22.0 in /Users/rsnegrin/.pyenv/versions/3.10.1/lib/python3.10/site-packages (from matplotlib) (4.39.0)\n",
      "Requirement already satisfied: kiwisolver>=1.0.1 in /Users/rsnegrin/.pyenv/versions/3.10.1/lib/python3.10/site-packages (from matplotlib) (1.4.4)\n",
      "Requirement already satisfied: numpy>=1.20 in /Users/rsnegrin/.pyenv/versions/3.10.1/lib/python3.10/site-packages (from matplotlib) (1.24.2)\n",
      "Requirement already satisfied: packaging>=20.0 in /Users/rsnegrin/.local/lib/python3.10/site-packages (from matplotlib) (23.0)\n",
      "Requirement already satisfied: pillow>=6.2.0 in /Users/rsnegrin/.pyenv/versions/3.10.1/lib/python3.10/site-packages (from matplotlib) (9.4.0)\n",
      "Requirement already satisfied: pyparsing>=2.3.1 in /Users/rsnegrin/.pyenv/versions/3.10.1/lib/python3.10/site-packages (from matplotlib) (3.0.9)\n",
      "Requirement already satisfied: python-dateutil>=2.7 in /Users/rsnegrin/.pyenv/versions/3.10.1/lib/python3.10/site-packages (from matplotlib) (2.8.2)\n",
      "Requirement already satisfied: six>=1.5 in /Users/rsnegrin/.pyenv/versions/3.10.1/lib/python3.10/site-packages (from python-dateutil>=2.7->matplotlib) (1.16.0)\n",
      "Note: you may need to restart the kernel to use updated packages.\n"
     ]
    }
   ],
   "source": [
    "%pip install qiskit\n",
    "%pip install qiskit --upgrade\n",
    "%pip install 'qiskit[nature]'\n",
    "%pip install qiskit-aer\n",
    "%pip install qiskit_algorithms\n",
    "#%pip install --prefer-binary pyscf # this library can have some issues with pip in macos\n",
    "%pip install matplotlib "
   ]
  },
  {
   "cell_type": "markdown",
   "metadata": {},
   "source": [
    "## Quantum Simulation of the $H_2$ Molecule\n",
    "\n",
    "### 1. Molecular Hamiltonian:\n",
    "\n",
    "The Hamiltonian for the $H_2$ molecule comprises the kinetic energy of the electrons, the potential energies due to electron-nuclear interactions, and the electron-electron interactions:\n",
    "\n",
    "$ \\hat{H} = \\sum_{i,j} t_{ij} a_i^\\dagger a_j + \\frac{1}{2} \\sum_{i,j,k,l} V_{ijkl} a_i^\\dagger a_j^\\dagger a_k a_l $\n",
    "\n",
    "Where:\n",
    "- $ a_i^\\dagger $ and $ a_i $ represent the fermionic creation and annihilation operators, respectively.\n",
    "- $ t_{ij} $ and $ V_{ijkl} $ are the one-electron and two-electron integrals.\n",
    "\n",
    "### 2. Mapping to Qubits:\n",
    "\n",
    "For quantum computations, the fermionic Hamiltonian needs to be translated into a qubit Hamiltonian. The Jordan-Wigner transformation is commonly used, where each fermionic mode corresponds to a qubit:\n",
    "\n",
    "$ a_j = \\frac{1}{2} (X_j + i Y_j) \\prod_{k=1}^{j-1} Z_k $\n",
    "\n",
    "Applying this transformation, the molecular Hamiltonian is expressed as a sum of tensor products of Pauli matrices (X, Y, Z).\n"
   ]
  },
  {
   "cell_type": "code",
   "execution_count": 1,
   "metadata": {},
   "outputs": [],
   "source": [
    "import qiskit as qk\n",
    "from qiskit_nature import settings\n",
    "from qiskit_nature.second_q.drivers import PySCFDriver\n",
    "from qiskit_nature.second_q.mappers import JordanWignerMapper, BravyiKitaevMapper\n",
    "from qiskit_nature.second_q.circuit.library import HartreeFock\n",
    "from qiskit.circuit.library import TwoLocal\n",
    "from qiskit.algorithms.optimizers import SPSA\n",
    "from qiskit.algorithms.minimum_eigensolvers import VQE\n",
    "from qiskit_aer.primitives import Estimator as AerEstimator\n",
    "\n",
    "settings.use_pauli_sum_op = False"
   ]
  },
  {
   "cell_type": "markdown",
   "metadata": {},
   "source": [
    "## Quantum Simulation of $H_2$ Molecule using Qiskit\n",
    "\n",
    "### 1. **Defining the Molecule**:\n",
    "- Utilize Qiskit's `PySCFDriver` to define the $H_2$ molecule.\n",
    "- Specify the atomic coordinates of the two hydrogen atoms and choose an appropriate basis set (e.g., `sto3g`).\n",
    "\n",
    "### 2. **Hamiltonian Transformation**:\n",
    "- The electronic structure of the $H_2$ molecule is initially described in terms of fermionic creation and annihilation operators.\n",
    "- Transform this fermionic Hamiltonian into a qubit (spin) Hamiltonian suitable for quantum computation.\n",
    "- Two common transformations are:\n",
    "  - **Jordan-Wigner Transformation**: Provides a direct mapping of fermions to qubits.\n",
    "    - $ a_j \\rightarrow \\frac{1}{2} (X_j + i Y_j) \\prod_{k=1}^{j-1} Z_k $\n",
    "    - $ a_j^\\dagger \\rightarrow \\frac{1}{2} (X_j - i Y_j) \\prod_{k=1}^{j-1} Z_k $\n",
    "  - **Bravyi-Kitaev Transformation**: A more efficient mapping especially for systems with local interactions, but is more complex in form.\n",
    "\n",
    "### 3. **Quantum Algorithms**:\n",
    "- With the qubit Hamiltonian in hand, employ quantum algorithms like the Variational Quantum Eigensolver (VQE) to estimate the ground state energy of the $H_2$ molecule.\n"
   ]
  },
  {
   "cell_type": "code",
   "execution_count": 2,
   "metadata": {},
   "outputs": [
    {
     "name": "stderr",
     "output_type": "stream",
     "text": [
      "/Users/rsnegrin/.pyenv/versions/3.10.1/lib/python3.10/site-packages/pyscf/dft/libxc.py:771: UserWarning: Since PySCF-2.3, B3LYP (and B3P86) are changed to the VWN-RPA variant, corresponding to the original definition by Stephens et al. (issue 1480) and the same as the B3LYP functional in Gaussian. To restore the VWN5 definition, you can put the setting \"B3LYP_WITH_VWN5 = True\" in pyscf_conf.py\n",
      "  warnings.warn('Since PySCF-2.3, B3LYP (and B3P86) are changed to the VWN-RPA variant, '\n"
     ]
    }
   ],
   "source": [
    "driver = PySCFDriver(atom='H .0 .0 .0; H .0 .0 0.735')# H2 molecule with bond length 0.735 angstrom\n",
    "problem = driver.run()"
   ]
  },
  {
   "cell_type": "code",
   "execution_count": 3,
   "metadata": {},
   "outputs": [],
   "source": [
    "# We can choose mapper here\n",
    "mapper  = JordanWignerMapper()\n",
    "# mapper = BravyiKitaevMapper()"
   ]
  },
  {
   "cell_type": "code",
   "execution_count": 4,
   "metadata": {},
   "outputs": [],
   "source": [
    "# Now we get the second quantized Hamiltonian\n",
    "hamiltonian = problem.hamiltonian.second_q_op()\n",
    "\n",
    "# By obtaining this Hamiltonian in the second quantized form, we are then set up to transform it into a qubit representation\n",
    "qubit_op = mapper.map(hamiltonian)"
   ]
  },
  {
   "cell_type": "markdown",
   "metadata": {},
   "source": [
    "##### Initial State: Hartree-Fock (HF) State\n",
    "\n",
    "The **Hartree-Fock (HF) state** serves as a common starting point. It approximates the wavefunction as:\n",
    "\n",
    "$$\n",
    "|\\psi_{HF}\\rangle = \\frac{1}{\\sqrt{N!}} \\sum_{\\sigma} (-1)^{\\sigma} P_{\\sigma} |\\phi_1 \\phi_2 ... \\phi_N \\rangle\n",
    "$$\n",
    "\n",
    "Where:\n",
    "- $|\\psi_{HF}\\rangle$ is the HF wavefunction.\n",
    "- $N$ is the number of electrons.\n",
    "- $\\sum_{\\sigma}$ represents a sum over all possible permutations of the electrons.\n",
    "- $(-1)^{\\sigma}$ is the phase factor for each permutation.\n",
    "- $P_{\\sigma}$ is the permutation operator for permutation $\\sigma$.\n",
    "- $|\\phi_1 \\phi_2 ... \\phi_N \\rangle$ is a Slater determinant formed from one-electron wavefunctions (spin-orbitals)."
   ]
  },
  {
   "cell_type": "code",
   "execution_count": 5,
   "metadata": {},
   "outputs": [],
   "source": [
    "num_particles = (problem.num_alpha,\n",
    "                 problem.num_beta)\n",
    "init_state = HartreeFock(problem.num_spin_orbitals, num_particles, mapper)"
   ]
  },
  {
   "cell_type": "markdown",
   "metadata": {},
   "source": [
    "### 4. **Quantum Simulation**\n",
    "\n",
    "Now, we will simulate the molecule to obtain its ground state using the **Variational Quantum Eigensolver (VQE)** method.\n",
    "\n",
    "The **ansatz** prepares quantum states with parameters, $ \\theta_k $, which are optimized by VQE:\n",
    "\n",
    "$$ U(\\theta) = e^{-i \\theta_k H_k} $$"
   ]
  },
  {
   "cell_type": "markdown",
   "metadata": {},
   "source": [
    "#### TwoLocal Ansatz\n",
    "\n",
    "The `TwoLocal` ansatz in Qiskit is a quantum circuit template used for variational algorithms like VQE. It alternates between:\n",
    "1. Single-qubit rotations: $RY$ gates.\n",
    "2. Two-qubit entanglements: $CZ$ gates.\n",
    "\n",
    "This structure provides a balance between expressiveness and computational efficiency, making it a popular choice for approximating quantum states.\n"
   ]
  },
  {
   "cell_type": "code",
   "execution_count": 6,
   "metadata": {},
   "outputs": [],
   "source": [
    "ansatz = TwoLocal(rotation_blocks='ry', entanglement_blocks='cz')"
   ]
  },
  {
   "cell_type": "markdown",
   "metadata": {},
   "source": [
    "### 4. **Optimization Algorithm**\n",
    "\n",
    "**SPSA** is a popular optimizer used to minimize the expectation value of the energy:\n",
    "\n",
    "$$ \\min_{\\theta} \\langle \\psi(\\theta) | H | \\psi(\\theta) \\rangle $$\n"
   ]
  },
  {
   "cell_type": "code",
   "execution_count": 7,
   "metadata": {},
   "outputs": [],
   "source": [
    "optimizer = SPSA(maxiter=30)"
   ]
  },
  {
   "cell_type": "markdown",
   "metadata": {},
   "source": [
    "## Start the Simulation\n",
    "\n",
    "Now that we've set up the problem, let's define the quantum backend and proceed with the actual simulation.\n"
   ]
  },
  {
   "cell_type": "code",
   "execution_count": 8,
   "metadata": {},
   "outputs": [],
   "source": [
    "backend = qk.Aer.get_backend('statevector_simulator')"
   ]
  },
  {
   "cell_type": "code",
   "execution_count": 9,
   "metadata": {},
   "outputs": [],
   "source": [
    "# Setting up the VQE Algorithm\n",
    "# another option\n",
    "aer_estimator = AerEstimator(run_options={\"shots\": 2048, \"seed\": 42})\n",
    "qe_program = VQE(aer_estimator, ansatz,optimizer)"
   ]
  },
  {
   "cell_type": "code",
   "execution_count": 10,
   "metadata": {},
   "outputs": [],
   "source": [
    "result = qe_program.compute_minimum_eigenvalue(operator=qubit_op)"
   ]
  },
  {
   "cell_type": "code",
   "execution_count": 11,
   "metadata": {},
   "outputs": [
    {
     "name": "stdout",
     "output_type": "stream",
     "text": [
      "Ground state energy: -1.6902070552404864 Ha\n"
     ]
    }
   ],
   "source": [
    "print(f\"Ground state energy: {result.eigenvalue.real} Ha\")"
   ]
  },
  {
   "cell_type": "markdown",
   "metadata": {},
   "source": [
    "For the $H_2$ molecule at a bond length of approximately $0.735$ angstroms, the ground state energy is approximately $-1.174$ Hartree [source](https://irinsubria.uninsubria.it/bitstream/11383/1715315/1/JCP_H2_1sigma_g.pdf).\n",
    "\n"
   ]
  },
  {
   "cell_type": "markdown",
   "metadata": {},
   "source": [
    "# Evolution of the $H_2$ Molecule\n",
    "\n",
    "Now, we will use **trotterization** to see how the $H_2$ molecule evolves.\n"
   ]
  },
  {
   "cell_type": "code",
   "execution_count": 51,
   "metadata": {},
   "outputs": [],
   "source": [
    "from qiskit.primitives import Estimator\n",
    "from qiskit.algorithms.time_evolvers import TimeEvolutionProblem, TrotterQRTE\n",
    "from qiskit.quantum_info import Statevector\n",
    "\n",
    "final_time = 1.6\n",
    "\n",
    "# Create the initial state\n",
    "statevector = [0, 0, 0, 0, 0, 0, 0, 0, 0, 0, 1, 0, 0, 0, 0, 0]\n",
    "\n",
    "# Create the quantum circuit\n",
    "initial_state = qk.QuantumCircuit(4)\n",
    "initial_state.initialize(statevector, [0,1,2,3])\n",
    "\n",
    "evolution_problem = TimeEvolutionProblem(qubit_op, initial_state=initial_state, time=final_time)"
   ]
  },
  {
   "cell_type": "code",
   "execution_count": 52,
   "metadata": {},
   "outputs": [],
   "source": [
    "trotter = TrotterQRTE()\n",
    "estimator = Estimator()\n",
    "trotter_qrte = TrotterQRTE(estimator=estimator)\n",
    "evolved_state = trotter_qrte.evolve(evolution_problem)"
   ]
  },
  {
   "cell_type": "code",
   "execution_count": 58,
   "metadata": {},
   "outputs": [
    {
     "data": {
      "image/png": "[encoded data removed]",
      "text/plain": [
       "<Figure size 1708.89x367.889 with 1 Axes>"
      ]
     },
     "execution_count": 58,
     "metadata": {},
     "output_type": "execute_result"
    }
   ],
   "source": [
    "evolved_state.evolved_state.draw('mpl')"
   ]
  },
  {
   "cell_type": "code",
   "execution_count": 57,
   "metadata": {},
   "outputs": [],
   "source": [
    "statevector = Statevector(evolved_state.evolved_state)"
   ]
  },
  {
   "cell_type": "code",
   "execution_count": 59,
   "metadata": {},
   "outputs": [
    {
     "name": "stdout",
     "output_type": "stream",
     "text": [
      "Statevector([ 2.44003311e-18-7.96192330e-18j,\n",
      "             -1.49894788e-17+6.54940524e-19j,\n",
      "             -2.20979691e-17+2.11183173e-17j,\n",
      "             -1.78349856e-18+6.14084450e-18j,\n",
      "              7.96958676e-18+1.89605040e-17j,\n",
      "              2.56290563e-01-1.25715964e-01j,\n",
      "             -3.83971021e-17+8.57930228e-18j,\n",
      "             -4.53631204e-18-2.35204963e-17j,\n",
      "             -3.73488769e-18+1.37924142e-17j,\n",
      "              1.19741128e-16-6.05296440e-17j,\n",
      "              8.85564788e-01+3.66450064e-01j,\n",
      "              7.16456151e-17+8.54951022e-17j,\n",
      "              1.89172146e-17-1.74305213e-17j,\n",
      "             -1.00521582e-16+2.62758295e-17j,\n",
      "              5.00592876e-18-2.04568686e-17j,\n",
      "              1.51383605e-17-5.11186429e-17j],\n",
      "            dims=(2, 2, 2, 2))\n"
     ]
    }
   ],
   "source": [
    "statevector"
   ]
  }
 ],
 "metadata": {
  "kernelspec": {
   "display_name": "Python 3",
   "language": "python",
   "name": "python3"
  },
  "language_info": {
   "codemirror_mode": {
    "name": "ipython",
    "version": 3
   },
   "file_extension": ".py",
   "mimetype": "text/x-python",
   "name": "python",
   "nbconvert_exporter": "python",
   "pygments_lexer": "ipython3",
   "version": "3.10.1"
  }
 },
 "nbformat": 4,
 "nbformat_minor": 2
}
