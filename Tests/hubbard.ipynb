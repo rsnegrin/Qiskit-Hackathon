{
 "cells": [
  {
   "cell_type": "markdown",
   "metadata": {},
   "source": [
    "# **Extended Hubbard Hamiltonian for Quantum Dots**\n",
    "\n",
    "The Hamiltonian for the extended spinless Hubbard model in a linear array of \\(N\\) quantum dots is provided. This Hamiltonian encompasses multiple interactions, from on-site energy to intersite Coulomb interactions.\n",
    "\n",
    "## Hamiltonian Definition\n",
    "\n",
    "The Hamiltonian $H_U$ is defined as:\n",
    "$$\n",
    "H_{U} = \\sum_{i=1}^{N} \\varepsilon_i n_i + \\sum_{i=1}^{N} U_i n_i (n_i - 1) + \\sum_{i=1}^{N-1} t_{i,i+1} \\left( c^\\dagger_i c_{i+1} + \\text{h.c.} \\right) + \\sum_{i,j}^{N} V_{i,j} n_i n_j\n",
    "$$\n",
    "\n",
    "Where:\n",
    "- $\\varepsilon_i$: On-site energy levels of the $i^{th}$ dot.\n",
    "- $U_i$: On-site Coulomb interaction strengths for the $i^{th}$ dot.\n",
    "- $t_{i,i+1}$: Tunneling terms between the $i^{th}$ and $(i+1)^{th}$ dots.\n",
    "- $V_{i,j}$: Intersite Coulomb interaction between the $v_i^{th}$ and $j^{th}$ dots."
   ]
  },
  {
   "cell_type": "markdown",
   "metadata": {},
   "source": [
    "# **SSH Model**\n",
    "\n",
    "The Su–Schrieffer–Heeger (SSH) model is a fundamental framework that explains topological insulators in one-dimensional systems. It represents an electron moving along a dimerized lattice, with staggered hopping amplitudes, $v$ and $w$. Within each dimer, the electron hopping strength is $v$, and between adjacent dimers, it's $w$. The model's topological properties emerge when comparing these two strengths:\n",
    "- Trivial phase: $v > w$\n",
    "- Topological phase: $v < w$\n",
    "\n",
    "## Quarter-Filling Phenomenon\n",
    "\n",
    "At quarter-filling, five electrons are distributed amongst the dots. In the scenario where the array is in its trivial phase, electrons are evenly spread across the array, aligning themselves within each dimer. On the other hand, in a topological configuration at this filling, four electrons position themselves at the center of the array in a manner akin to the trivial phase. \n",
    "\n",
    "The distinction arises with the fifth electron, which doesn't reside within a dimer. Our primary focus is on this quarter-filling since the topologically interacting states are characterized by this fifth electron localizing at the extremes of the array.\n",
    "\n",
    "**Energy Spectrum at Quarter-Filling:** \n",
    "  - Trivial Phase:\n",
    "    - Single ground state with five electrons, 3.85 meV below the four- and six-electron states.\n",
    "  - Topological Phase:\n",
    "    - Nearly four-fold degeneracy involving four, five (two-fold degenerate), and six electrons.\n",
    "\n",
    "##  Simulation of the SSH model\n",
    "\n",
    "Parameters:\n",
    "- Tunnel Coupling (t): $t \\approx 3.4$ meV\n",
    "- Intersite Coulomb Interaction (V): $V \\approx 5$ meV\n",
    "- On-site Coulomb Interaction (U): $U \\approx 25$ meV\n",
    "- Number of Sites (N): 10\n",
    "\n",
    "\n",
    "Details:\n",
    "\n",
    "- Trivial phase: $d_v = 7.7 \\pm 0.1$ nm and $d_w = 10.1 \\pm 0.2$ nm.\n",
    "- Topological phase: $d_v = 9.6 \\pm 0.4$ nm and $d_w = 7.8 \\pm 0.6$ nm.\n"
   ]
  },
  {
   "cell_type": "markdown",
   "metadata": {},
   "source": [
    "<img src=\"./images/energies.png\" alt=\"Energies\" style=\"width: 700px; display: inline-block; margin-right: 10px;\"/>\n",
    "<img src=\"./images/couplings.png\" alt=\"System Model\" style=\"width: 530px; display: inline-block;\"/>\n"
   ]
  },
  {
   "cell_type": "code",
   "execution_count": 1,
   "metadata": {},
   "outputs": [],
   "source": [
    "import qiskit as qk\n",
    "from qiskit_nature.operators.second_quantization import FermionicOp\n",
    "from qiskit_nature.second_q.mappers import JordanWignerMapper\n",
    "from qiskit.algorithms.optimizers import COBYLA \n",
    "from qiskit.algorithms.minimum_eigensolvers import VQE\n",
    "from qiskit.circuit.library import TwoLocal\n",
    "from qiskit_aer.primitives import Estimator as AerEstimator\n",
    "import numpy as np"
   ]
  },
  {
   "cell_type": "code",
   "execution_count": 2,
   "metadata": {},
   "outputs": [],
   "source": [
    "def extended_hubbard_hamiltonian(N, epsilon:list, U:list, t:list, V:list):\n",
    "    \n",
    "    \"\"\"Return the extended Hubbard Hamiltonian for given parameters.\"\"\"\n",
    "\n",
    "    hamiltonian = FermionicOp([])\n",
    "\n",
    "    # On-site energy terms\n",
    "    for i in range(N):\n",
    "        hamiltonian += epsilon[i] * FermionicOp(f\"N_{i}\")\n",
    "\n",
    "    # On-site Coulomb interaction terms\n",
    "    for i in range(N):\n",
    "        hamiltonian += U[i] * (FermionicOp(f\"N_{i}\") @ (FermionicOp(f\"N_{i}\")) - FermionicOp(f\"N_{i}\"))\n",
    "\n",
    "    # Tunneling terms\n",
    "    for i in range(N-1):\n",
    "        hamiltonian += t[i] * (FermionicOp(f\"+_{i} -_{i+1}\") + FermionicOp(f\"-_{i} +_{i+1}\"))\n",
    "\n",
    "    # Intersite Coulomb interaction terms\n",
    "    for i in range(N):\n",
    "        for j in range(N):\n",
    "            hamiltonian += V[i][j] * FermionicOp(f\"N_{i}\") @ FermionicOp(f\"N_{j}\")\n",
    "\n",
    "    return hamiltonian"
   ]
  },
  {
   "cell_type": "markdown",
   "metadata": {},
   "source": [
    "### **We still need to get the values for $U_i$, $\\varepsilon_i$, $V_{i,j}$ and $t_{j,j+1}$**\n",
    "\n",
    "They are on this [link](https://static-content.springer.com/esm/art%3A10.1038%2Fs41586-022-04706-0/MediaObjects/41586_2022_4706_MOESM1_ESM.pdf)"
   ]
  },
  {
   "cell_type": "code",
   "execution_count": 3,
   "metadata": {},
   "outputs": [],
   "source": [
    "from params import t_trivial, V_trivial, epsilon_trivial, U_trivial, N"
   ]
  },
  {
   "cell_type": "code",
   "execution_count": 4,
   "metadata": {},
   "outputs": [
    {
     "name": "stderr",
     "output_type": "stream",
     "text": [
      "/Users/rsnegrin/.local/share/virtualenvs/Qiskit-Hackathon-KYw6owOn/lib/python3.11/site-packages/qiskit_nature/deprecation.py:297: PauliSumOpDeprecationWarning: PauliSumOp is deprecated as of version 0.6.0 and support for them will be removed no sooner than 3 months after the release. Instead, use SparsePauliOp. You can switch to SparsePauliOp immediately, by setting `qiskit_nature.settings.use_pauli_sum_op` to `False`.\n",
      "  return func(*args, **kwargs)\n"
     ]
    }
   ],
   "source": [
    "# Now we transform the Hamiltonian into a qubit Hamiltonianm using the Jordan-Wigner transformation\n",
    "\n",
    "H = extended_hubbard_hamiltonian(N, epsilon_trivial, U_trivial, t_trivial, V_trivial)\n",
    "mapper  = JordanWignerMapper()\n",
    "qubit_op = mapper.map(H)"
   ]
  },
  {
   "cell_type": "code",
   "execution_count": 5,
   "metadata": {},
   "outputs": [
    {
     "name": "stderr",
     "output_type": "stream",
     "text": [
      "/Users/rsnegrin/.local/share/virtualenvs/Qiskit-Hackathon-KYw6owOn/lib/python3.11/site-packages/scipy/optimize/_cobyla_py.py:293: ComplexWarning: Casting complex values to real discards the imaginary part\n",
      "  xopt, info = cobyla.minimize(calcfc, m=m, x=np.copy(x0), rhobeg=rhobeg,\n"
     ]
    }
   ],
   "source": [
    "ansatz = TwoLocal(qubit_op.num_qubits, 'ry', 'cz', reps=1, entanglement='linear')\n",
    "\n",
    "mixters = np.linspace(150, 600, 40)\n",
    "results = []\n",
    "for mixter in mixters:\n",
    "    optimizer = COBYLA(maxiter=mixter)\n",
    "\n",
    "    backend = qk.Aer.get_backend('statevector_simulator')\n",
    "\n",
    "\n",
    "    # Setting up the VQE Algorithm\n",
    "    aer_estimator = AerEstimator(run_options={\"shots\": 2048, \"seed\": 25})\n",
    "    qe_program = VQE(aer_estimator, ansatz, optimizer)\n",
    "    result = qe_program.compute_minimum_eigenvalue(operator=qubit_op)\n",
    "    results.append(result.eigenvalue)"
   ]
  },
  {
   "cell_type": "code",
   "execution_count": 6,
   "metadata": {},
   "outputs": [
    {
     "name": "stdout",
     "output_type": "stream",
     "text": [
      "Average: 0.35622247192383155\n"
     ]
    },
    {
     "data": {
      "image/png": "[encoded data removed]",
      "text/plain": [
       "<Figure size 640x480 with 1 Axes>"
      ]
     },
     "metadata": {},
     "output_type": "display_data"
    }
   ],
   "source": [
    "import matplotlib.pyplot as plt\n",
    "plt.plot(mixters, results)\n",
    "average = np.mean(results)\n",
    "print(f\"Average: {average}\") # Im almost sure this is meV"
   ]
  },
  {
   "cell_type": "markdown",
   "metadata": {},
   "source": [
    "### **Questions**:\n",
    "\n",
    "1. **Energy Values:** I'm confused by the high energy values we're obtaining. For the trivial case, I would expect it to be around 3.85 meV. \n",
    "\n",
    "2. **Number of Electrons:** I don't know where we specify the number of electrons in the molecules within this model.\n",
    "\n",
    "3. **Variability with VOQ:** VQE yields significantly different results each time. Even after experimenting with different mixers, the outputs seem to vary greatly.\n",
    "\n",
    "**Note:** The data for the parameters was sourced from the referenced [paper.](https://static-content.springer.com/esm/art%3A10.1038%2Fs41586-022-04706-0/MediaObjects/41586_2022_4706_MOESM1_ESM.pdf)\n"
   ]
  }
 ],
 "metadata": {
  "kernelspec": {
   "display_name": "Qiskit-Hackathon-KYw6owOn",
   "language": "python",
   "name": "python3"
  },
  "language_info": {
   "codemirror_mode": {
    "name": "ipython",
    "version": 3
   },
   "file_extension": ".py",
   "mimetype": "text/x-python",
   "name": "python",
   "nbconvert_exporter": "python",
   "pygments_lexer": "ipython3",
   "version": "3.11.5"
  }
 },
 "nbformat": 4,
 "nbformat_minor": 2
}
